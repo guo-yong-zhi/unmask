{
 "cells": [
  {
   "cell_type": "code",
   "execution_count": 6,
   "metadata": {},
   "outputs": [],
   "source": [
    "def is_simple_case_lemmatization(word, lemma):\n",
    "    word = word.lower()\n",
    "    lemma = lemma.lower()\n",
    "    if word == lemma or word == lemma + \"s\" or word == lemma + \"es\":\n",
    "        return True\n",
    "    if lemma.endswith(\"y\") and word.endswith(\"ies\"):\n",
    "        return True\n",
    "    if word == lemma + \"ed\":\n",
    "        return True\n",
    "    if lemma.endswith(\"e\") and word == lemma + \"d\":\n",
    "        return True\n",
    "    if lemma.endswith(\"y\") and word.endswith(\"ied\"):\n",
    "        return True\n",
    "    if lemma and lemma + lemma[-1] + \"ed\" == word:\n",
    "        return True\n",
    "    if word == lemma + \"ing\":\n",
    "        return True\n",
    "    if lemma.endswith(\"e\") and word == lemma[:-1] + \"ing\":\n",
    "        return True\n",
    "    if lemma.endswith(\"ie\") and word == lemma[:-2] + \"ying\":\n",
    "        return True\n",
    "    if lemma and lemma + lemma[-1] + \"ing\" == word:\n",
    "        return True\n",
    "    if word == lemma + \"er\" or word == lemma + \"est\":\n",
    "        return True\n",
    "    if lemma.endswith(\"e\") and (word == lemma[:-1] + \"r\" or word == lemma[:-1] + \"st\"):\n",
    "        return True\n",
    "    if lemma.endswith(\"y\") and (word == lemma[:-1] + \"ier\" or word == lemma[:-1] + \"iest\"):\n",
    "        return True\n",
    "    if lemma and (lemma + lemma[-1] + \"er\" == word or lemma + lemma[-1] + \"est\" == word):\n",
    "        return True\n",
    "    return False\n",
    "    \n",
    "\n"
   ]
  },
  {
   "cell_type": "code",
   "execution_count": 8,
   "metadata": {},
   "outputs": [
    {
     "data": {
      "text/plain": [
       "False"
      ]
     },
     "execution_count": 8,
     "metadata": {},
     "output_type": "execute_result"
    }
   ],
   "source": [
    "is_simple_case_lemmatization(\"good\", \"best\")"
   ]
  },
  {
   "cell_type": "code",
   "execution_count": 1,
   "metadata": {},
   "outputs": [
    {
     "name": "stderr",
     "output_type": "stream",
     "text": [
      "OpenBLAS WARNING - could not determine the L2 cache size on this system, assuming 256k\n"
     ]
    }
   ],
   "source": [
    "import nltk\n",
    "from nltk.stem import WordNetLemmatizer\n",
    "import re\n",
    "\n",
    "try:\n",
    "    nltk.data.find('corpora/wordnet.zip')\n",
    "except LookupError:\n",
    "    nltk.download('wordnet')\n",
    "    \n",
    "lemmatizer = WordNetLemmatizer().lemmatize"
   ]
  },
  {
   "cell_type": "code",
   "execution_count": 9,
   "metadata": {},
   "outputs": [],
   "source": [
    "from check_word import *"
   ]
  },
  {
   "cell_type": "code",
   "execution_count": 1,
   "metadata": {},
   "outputs": [
    {
     "name": "stderr",
     "output_type": "stream",
     "text": [
      "OpenBLAS WARNING - could not determine the L2 cache size on this system, assuming 256k\n"
     ]
    }
   ],
   "source": [
    "import pandas as pd"
   ]
  },
  {
   "cell_type": "code",
   "execution_count": 7,
   "metadata": {},
   "outputs": [],
   "source": [
    "fn = \"20211116初中所有版别词汇表（新目标+五四+外研+牛津+深圳牛津+仁爱单词表）.xls\"\n",
    "sheets = list(pd.read_excel(fn, None).values())"
   ]
  },
  {
   "cell_type": "code",
   "execution_count": 20,
   "metadata": {},
   "outputs": [],
   "source": [
    "sheets[5] = sheets[5].iloc[:,:8]"
   ]
  },
  {
   "cell_type": "code",
   "execution_count": 69,
   "metadata": {},
   "outputs": [],
   "source": [
    "D = {}\n",
    "for S in sheets[:-1]:\n",
    "    # print(S)\n",
    "    S = S.fillna(\"\")\n",
    "    for i in range(len(S)):\n",
    "        source = \"    \".join((S.iloc[i,6], str(int(S.iloc[i,7])) if not isinstance(S.iloc[i,7], str) else S.iloc[i,7], S.iloc[i,4], str(S.iloc[i,5])+\" \"+S.iloc[i,3]))\n",
    "        item = [S.iloc[i,0], S.iloc[i,1], S.iloc[i,2], source]\n",
    "        D.setdefault(S.iloc[i,0], []).append(item)"
   ]
  },
  {
   "cell_type": "code",
   "execution_count": 70,
   "metadata": {},
   "outputs": [],
   "source": [
    "import re\n",
    "s6 = sheets[6].fillna(\"\")\n",
    "for c in s6:\n",
    "    ws = s6[c]\n",
    "    for w in ws:\n",
    "        w = re.sub(\"\\(.*\\)\", \"\", w).strip()\n",
    "        if w:\n",
    "            D.setdefault(w, []).append([w, \"\", \"\", c])"
   ]
  },
  {
   "cell_type": "code",
   "execution_count": 71,
   "metadata": {},
   "outputs": [],
   "source": [
    "from dict_process import dump_dict\n",
    "dump_dict(D, \"初中汇总.jsonl\")"
   ]
  },
  {
   "cell_type": "code",
   "execution_count": null,
   "metadata": {},
   "outputs": [],
   "source": []
  }
 ],
 "metadata": {
  "kernelspec": {
   "display_name": "holly-environment2",
   "language": "python",
   "name": "python3"
  },
  "language_info": {
   "codemirror_mode": {
    "name": "ipython",
    "version": 3
   },
   "file_extension": ".py",
   "mimetype": "text/x-python",
   "name": "python",
   "nbconvert_exporter": "python",
   "pygments_lexer": "ipython3",
   "version": "3.11.5"
  },
  "orig_nbformat": 4
 },
 "nbformat": 4,
 "nbformat_minor": 2
}
