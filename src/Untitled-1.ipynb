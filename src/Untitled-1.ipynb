{
 "cells": [
  {
   "cell_type": "code",
   "execution_count": 6,
   "metadata": {},
   "outputs": [],
   "source": [
    "def is_simple_case_lemmatization(word, lemma):\n",
    "    word = word.lower()\n",
    "    lemma = lemma.lower()\n",
    "    if word == lemma or word == lemma + \"s\" or word == lemma + \"es\":\n",
    "        return True\n",
    "    if lemma.endswith(\"y\") and word.endswith(\"ies\"):\n",
    "        return True\n",
    "    if word == lemma + \"ed\":\n",
    "        return True\n",
    "    if lemma.endswith(\"e\") and word == lemma + \"d\":\n",
    "        return True\n",
    "    if lemma.endswith(\"y\") and word.endswith(\"ied\"):\n",
    "        return True\n",
    "    if lemma and lemma + lemma[-1] + \"ed\" == word:\n",
    "        return True\n",
    "    if word == lemma + \"ing\":\n",
    "        return True\n",
    "    if lemma.endswith(\"e\") and word == lemma[:-1] + \"ing\":\n",
    "        return True\n",
    "    if lemma.endswith(\"ie\") and word == lemma[:-2] + \"ying\":\n",
    "        return True\n",
    "    if lemma and lemma + lemma[-1] + \"ing\" == word:\n",
    "        return True\n",
    "    if word == lemma + \"er\" or word == lemma + \"est\":\n",
    "        return True\n",
    "    if lemma.endswith(\"e\") and (word == lemma[:-1] + \"r\" or word == lemma[:-1] + \"st\"):\n",
    "        return True\n",
    "    if lemma.endswith(\"y\") and (word == lemma[:-1] + \"ier\" or word == lemma[:-1] + \"iest\"):\n",
    "        return True\n",
    "    if lemma and (lemma + lemma[-1] + \"er\" == word or lemma + lemma[-1] + \"est\" == word):\n",
    "        return True\n",
    "    return False\n",
    "    \n",
    "\n"
   ]
  },
  {
   "cell_type": "code",
   "execution_count": 8,
   "metadata": {},
   "outputs": [
    {
     "data": {
      "text/plain": [
       "False"
      ]
     },
     "execution_count": 8,
     "metadata": {},
     "output_type": "execute_result"
    }
   ],
   "source": [
    "is_simple_case_lemmatization(\"good\", \"best\")"
   ]
  },
  {
   "cell_type": "code",
   "execution_count": 1,
   "metadata": {},
   "outputs": [
    {
     "name": "stderr",
     "output_type": "stream",
     "text": [
      "OpenBLAS WARNING - could not determine the L2 cache size on this system, assuming 256k\n"
     ]
    }
   ],
   "source": [
    "import nltk\n",
    "from nltk.stem import WordNetLemmatizer\n",
    "import re\n",
    "\n",
    "try:\n",
    "    nltk.data.find('corpora/wordnet.zip')\n",
    "except LookupError:\n",
    "    nltk.download('wordnet')\n",
    "    \n",
    "lemmatizer = WordNetLemmatizer().lemmatize"
   ]
  },
  {
   "cell_type": "code",
   "execution_count": 9,
   "metadata": {},
   "outputs": [],
   "source": [
    "from check_word import *"
   ]
  },
  {
   "cell_type": "code",
   "execution_count": 1,
   "metadata": {},
   "outputs": [
    {
     "name": "stderr",
     "output_type": "stream",
     "text": [
      "OpenBLAS WARNING - could not determine the L2 cache size on this system, assuming 256k\n"
     ]
    }
   ],
   "source": [
    "import pandas as pd"
   ]
  },
  {
   "cell_type": "code",
   "execution_count": 11,
   "metadata": {},
   "outputs": [],
   "source": [
    "fn = \"20211116初中所有版别词汇表（新目标+五四+外研+牛津+深圳牛津+仁爱单词表）.xls\"\n",
    "sheets = list(pd.read_excel(fn, None, dtype=str).values())"
   ]
  },
  {
   "cell_type": "code",
   "execution_count": 12,
   "metadata": {},
   "outputs": [],
   "source": [
    "sheets[5] = sheets[5].iloc[:,:8]"
   ]
  },
  {
   "cell_type": "code",
   "execution_count": 13,
   "metadata": {},
   "outputs": [
    {
     "data": {
      "text/html": [
       "<div>\n",
       "<style scoped>\n",
       "    .dataframe tbody tr th:only-of-type {\n",
       "        vertical-align: middle;\n",
       "    }\n",
       "\n",
       "    .dataframe tbody tr th {\n",
       "        vertical-align: top;\n",
       "    }\n",
       "\n",
       "    .dataframe thead th {\n",
       "        text-align: right;\n",
       "    }\n",
       "</style>\n",
       "<table border=\"1\" class=\"dataframe\">\n",
       "  <thead>\n",
       "    <tr style=\"text-align: right;\">\n",
       "      <th></th>\n",
       "      <th>单词</th>\n",
       "      <th>词性</th>\n",
       "      <th>中文释义</th>\n",
       "      <th>出处</th>\n",
       "      <th>单元</th>\n",
       "      <th>页码</th>\n",
       "      <th>教材</th>\n",
       "      <th>年级</th>\n",
       "    </tr>\n",
       "  </thead>\n",
       "  <tbody>\n",
       "    <tr>\n",
       "      <th>0</th>\n",
       "      <td>German</td>\n",
       "      <td>adj.</td>\n",
       "      <td>德国的</td>\n",
       "      <td>J1-1</td>\n",
       "      <td>Unit 1</td>\n",
       "      <td>P 1</td>\n",
       "      <td>上海牛津2012年第1版</td>\n",
       "      <td>7</td>\n",
       "    </tr>\n",
       "    <tr>\n",
       "      <th>1</th>\n",
       "      <td>blog</td>\n",
       "      <td>n.</td>\n",
       "      <td>博客</td>\n",
       "      <td>J1-1</td>\n",
       "      <td>Unit 1</td>\n",
       "      <td>P 1</td>\n",
       "      <td>上海牛津2012年第1版</td>\n",
       "      <td>7</td>\n",
       "    </tr>\n",
       "    <tr>\n",
       "      <th>2</th>\n",
       "      <td>grammar</td>\n",
       "      <td>n.</td>\n",
       "      <td>语法</td>\n",
       "      <td>J1-1</td>\n",
       "      <td>Unit 1</td>\n",
       "      <td>P 1</td>\n",
       "      <td>上海牛津2012年第1版</td>\n",
       "      <td>7</td>\n",
       "    </tr>\n",
       "    <tr>\n",
       "      <th>3</th>\n",
       "      <td>sound</td>\n",
       "      <td>n.</td>\n",
       "      <td>声音</td>\n",
       "      <td>J1-1</td>\n",
       "      <td>Unit 1</td>\n",
       "      <td>P 1</td>\n",
       "      <td>上海牛津2012年第1版</td>\n",
       "      <td>7</td>\n",
       "    </tr>\n",
       "    <tr>\n",
       "      <th>4</th>\n",
       "      <td>complete</td>\n",
       "      <td>v.</td>\n",
       "      <td>完成</td>\n",
       "      <td>J1-1</td>\n",
       "      <td>Unit 1</td>\n",
       "      <td>P 1</td>\n",
       "      <td>上海牛津2012年第1版</td>\n",
       "      <td>7</td>\n",
       "    </tr>\n",
       "    <tr>\n",
       "      <th>...</th>\n",
       "      <td>...</td>\n",
       "      <td>...</td>\n",
       "      <td>...</td>\n",
       "      <td>...</td>\n",
       "      <td>...</td>\n",
       "      <td>...</td>\n",
       "      <td>...</td>\n",
       "      <td>...</td>\n",
       "    </tr>\n",
       "    <tr>\n",
       "      <th>1355</th>\n",
       "      <td>regular</td>\n",
       "      <td>adj.</td>\n",
       "      <td>有规律的；定时的</td>\n",
       "      <td>J3-2</td>\n",
       "      <td>Unit 6</td>\n",
       "      <td>P 83</td>\n",
       "      <td>上海牛津2015年第1版</td>\n",
       "      <td>9</td>\n",
       "    </tr>\n",
       "    <tr>\n",
       "      <th>1356</th>\n",
       "      <td>risk</td>\n",
       "      <td>n.</td>\n",
       "      <td>风险</td>\n",
       "      <td>J3-2</td>\n",
       "      <td>Unit 6</td>\n",
       "      <td>P 83</td>\n",
       "      <td>上海牛津2015年第1版</td>\n",
       "      <td>9</td>\n",
       "    </tr>\n",
       "    <tr>\n",
       "      <th>1357</th>\n",
       "      <td>silent</td>\n",
       "      <td>adj.</td>\n",
       "      <td>不说话的；沉默的</td>\n",
       "      <td>J3-2</td>\n",
       "      <td>Unit 6</td>\n",
       "      <td>P 83</td>\n",
       "      <td>上海牛津2015年第1版</td>\n",
       "      <td>9</td>\n",
       "    </tr>\n",
       "    <tr>\n",
       "      <th>1358</th>\n",
       "      <td>take up</td>\n",
       "      <td>NaN</td>\n",
       "      <td>（尤指为消遣）学着做；开始做</td>\n",
       "      <td>J3-2</td>\n",
       "      <td>Unit 6</td>\n",
       "      <td>P 83</td>\n",
       "      <td>上海牛津2015年第1版</td>\n",
       "      <td>9</td>\n",
       "    </tr>\n",
       "    <tr>\n",
       "      <th>1359</th>\n",
       "      <td>whether</td>\n",
       "      <td>conj.</td>\n",
       "      <td>是否</td>\n",
       "      <td>J3-2</td>\n",
       "      <td>Unit 6</td>\n",
       "      <td>P 83</td>\n",
       "      <td>上海牛津2015年第1版</td>\n",
       "      <td>9</td>\n",
       "    </tr>\n",
       "  </tbody>\n",
       "</table>\n",
       "<p>1360 rows × 8 columns</p>\n",
       "</div>"
      ],
      "text/plain": [
       "            单词     词性            中文释义    出处       单元    页码            教材 年级\n",
       "0       German   adj.             德国的  J1-1  Unit 1    P 1  上海牛津2012年第1版  7\n",
       "1         blog     n.              博客  J1-1  Unit 1    P 1  上海牛津2012年第1版  7\n",
       "2      grammar     n.              语法  J1-1  Unit 1    P 1  上海牛津2012年第1版  7\n",
       "3        sound     n.              声音  J1-1  Unit 1    P 1  上海牛津2012年第1版  7\n",
       "4     complete     v.              完成  J1-1  Unit 1    P 1  上海牛津2012年第1版  7\n",
       "...        ...    ...             ...   ...      ...   ...           ... ..\n",
       "1355   regular   adj.        有规律的；定时的  J3-2   Unit 6  P 83  上海牛津2015年第1版  9\n",
       "1356      risk     n.              风险  J3-2   Unit 6  P 83  上海牛津2015年第1版  9\n",
       "1357    silent   adj.        不说话的；沉默的  J3-2   Unit 6  P 83  上海牛津2015年第1版  9\n",
       "1358   take up    NaN  （尤指为消遣）学着做；开始做  J3-2   Unit 6  P 83  上海牛津2015年第1版  9\n",
       "1359   whether  conj.              是否  J3-2   Unit 6  P 83  上海牛津2015年第1版  9\n",
       "\n",
       "[1360 rows x 8 columns]"
      ]
     },
     "execution_count": 13,
     "metadata": {},
     "output_type": "execute_result"
    }
   ],
   "source": [
    "sheets[2]"
   ]
  },
  {
   "cell_type": "code",
   "execution_count": 14,
   "metadata": {},
   "outputs": [],
   "source": [
    "D = {}\n",
    "for S in sheets[:-1]:\n",
    "    # print(S)\n",
    "    S = S.fillna(\"\")\n",
    "    for i in range(len(S)):\n",
    "        source = \"    \".join((S.iloc[i,6], S.iloc[i,7]+\"年级\" if S.iloc[i,7] else S.iloc[i,7], S.iloc[i,4], S.iloc[i,5]+\" \"+S.iloc[i,3]))\n",
    "        item = [S.iloc[i,0], S.iloc[i,1], S.iloc[i,2], source]\n",
    "        D.setdefault(S.iloc[i,0], []).append(item)"
   ]
  },
  {
   "cell_type": "code",
   "execution_count": 15,
   "metadata": {},
   "outputs": [],
   "source": [
    "import re\n",
    "s6 = sheets[6].fillna(\"\")\n",
    "for c in s6:\n",
    "    ws = s6[c]\n",
    "    for w in ws:\n",
    "        w = re.sub(\"\\(.*\\)\", \"\", w).strip()\n",
    "        if w:\n",
    "            D.setdefault(w, []).append([w, \"\", \"\", c])"
   ]
  },
  {
   "cell_type": "code",
   "execution_count": 16,
   "metadata": {},
   "outputs": [],
   "source": [
    "from dict_process import dump_dict\n",
    "dump_dict(D, \"初中汇总.jsonl\")"
   ]
  },
  {
   "cell_type": "code",
   "execution_count": null,
   "metadata": {},
   "outputs": [],
   "source": []
  }
 ],
 "metadata": {
  "kernelspec": {
   "display_name": "holly-environment2",
   "language": "python",
   "name": "python3"
  },
  "language_info": {
   "codemirror_mode": {
    "name": "ipython",
    "version": 3
   },
   "file_extension": ".py",
   "mimetype": "text/x-python",
   "name": "python",
   "nbconvert_exporter": "python",
   "pygments_lexer": "ipython3",
   "version": "3.11.5"
  },
  "orig_nbformat": 4
 },
 "nbformat": 4,
 "nbformat_minor": 2
}
