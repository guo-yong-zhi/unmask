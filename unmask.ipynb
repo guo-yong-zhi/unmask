{
 "cells": [
  {
   "cell_type": "code",
   "execution_count": null,
   "id": "8bde150d-1677-412b-8f56-3d67a369521d",
   "metadata": {},
   "outputs": [],
   "source": [
    "from unmask import umaskall"
   ]
  },
  {
   "cell_type": "code",
   "execution_count": null,
   "id": "49e2c39a-0701-4666-b354-8fc0efe8acc1",
   "metadata": {
    "tags": []
   },
   "outputs": [],
   "source": [
    "# 从字符串执行\n",
    "text='''\n",
    "Spatial navigation, which was a process 1performed exclusively by the human brain and perceptual system, has now been surrendered to technology. However, in doing so, we 2also surrendered our agency.\n",
    "There are structures in the brain dedicated to complex pathfinding tasks. In particular, the hippocampus is deeply 3associated with supporting spatial memory, spatial navigation and mental mapping.\n",
    "Anthropologists have gone so far as to suggest that navigation needs might have been the 4origin for all memories. As we age, our memory declines. And 5while there is no silver bullet for healthy aging, neuroscientists agree that one of the key 6ingredients of successful aging is staying mentally active. Studies show that we can actually 7exercise the hippocampus memory through exploration and spatial navigation. \n",
    "By following a set of digital turn-by-turn directions, GPS navigation apps treat us as 8passive passengers rather than active explorers, 9removing our agency to make decisions. 10In _turn this inhibits our ability to create proper mental maps of the surrounding environment, and 11negatively impacts the hippocampus, which is critical for brain health.\n",
    "As we explore new environments, the brain 12constantly maps out our surroundings. And we use all of our senses to learn about and remember our surroundings, not just vision. In particular, evolution 13rewarded auditory navigation: as hunter-gatherers we listened to the environment and moved towards sounds, 14allowing us to avoid predators, track prey and locate water sources. Our brains ultimately could 15generate detailed maps of our environment through active exploration, a hard-won evolutionary skill that never went away. However, as civilizations expanded and grew, it became more 16difficult to navigate over long distances only through sensory experiences and memory. One cannot sail to another continent 16on senses alone. So, maps were a revolution for humanity.\n",
    "The rise of satellite-enabled GPS was revolutionary for navigation, and with the rise of mobile phones, anyone can have their 18personal navigator. GPS navigation apps enable egocentric navigation with easy-to-follow turn-by-turn directions: “Turn right in 100 meters, then turn left,” all the way to the destination. 19However, multiple experiments have shown that this easy egocentric navigation reduces spatial 20awareness and mental mapping when 21compared to more traditional forms of allocentric navigation like paper maps.\n",
    "'''\n",
    "top_k = 50\n",
    "split_stences = True\n",
    "single_mask = False\n",
    "outputfile = \"output.txt\"\n",
    "with open(outputfile, \"w\", encoding=\"utf-8\") as output:\n",
    "    umaskall(text, top_k=top_k, split_stences=split_stences, single_mask=single_mask, io=output)\n",
    "with open(outputfile, encoding=\"utf-8\") as output:\n",
    "    print(output.read())"
   ]
  },
  {
   "cell_type": "code",
   "execution_count": null,
   "id": "61f8fb83-a444-4d72-a336-1e0c71a5d734",
   "metadata": {
    "tags": []
   },
   "outputs": [],
   "source": [
    "# 从文件执行\n",
    "top_k = 50\n",
    "split_stences = True\n",
    "single_mask = False\n",
    "inputfile = \"article.txt\"\n",
    "outputfile = \"output.txt\"\n",
    "\n",
    "with open(inputfile, encoding=\"utf-8\") as f:\n",
    "    text = f.read()\n",
    "with open(outputfile, \"w\", encoding=\"utf-8\") as output:\n",
    "    umaskall(text, top_k=top_k, split_stences=split_stences, single_mask=single_mask, io=output)\n",
    "with open(outputfile, encoding=\"utf-8\") as output:\n",
    "    print(output.read())"
   ]
  },
  {
   "cell_type": "code",
   "execution_count": null,
   "id": "64552ab7-0542-44b5-9e3b-00acf51fff7c",
   "metadata": {},
   "outputs": [],
   "source": [
    "# 交互执行\n",
    "top_k = 50\n",
    "split_stences = True\n",
    "single_mask = False\n",
    "print(\"## 输入句子，挖空的词用数字或下划线开头，输入q退出。回车执行。 ##\")\n",
    "while True:\n",
    "    text = input(\"请输入句子：\")\n",
    "    if text == \"q\":\n",
    "        break\n",
    "    else:\n",
    "        umaskall(text, top_k=top_k, split_stences=split_stences, single_mask=single_mask)"
   ]
  },
  {
   "cell_type": "markdown",
   "id": "6b040a0a-c622-4c47-abde-0228d83b4df6",
   "metadata": {},
   "source": [
    "* 修改`text`字符串中的内容或者直接编辑`article.txt`\n",
    "* 挖空的词需用数字或下划线`_`开头\n",
    "* 可以修改`top_k`, `split_stences`, `single_mask`的值\n",
    "* 结果输出在`output.txt`"
   ]
  },
  {
   "cell_type": "code",
   "execution_count": null,
   "id": "8f1bd495-bce0-42e8-a6b0-42dac1d58b8c",
   "metadata": {},
   "outputs": [],
   "source": []
  }
 ],
 "metadata": {
  "kernelspec": {
   "display_name": "Python 3",
   "language": "python",
   "name": "python3"
  },
  "language_info": {
   "codemirror_mode": {
    "name": "ipython",
    "version": 3
   },
   "file_extension": ".py",
   "mimetype": "text/x-python",
   "name": "python",
   "nbconvert_exporter": "python",
   "pygments_lexer": "ipython3",
   "version": "3.8.10"
  }
 },
 "nbformat": 4,
 "nbformat_minor": 5
}
